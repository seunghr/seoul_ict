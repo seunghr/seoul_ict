{
 "cells": [
  {
   "cell_type": "code",
   "execution_count": 10,
   "metadata": {},
   "outputs": [
    {
     "name": "stdout",
     "output_type": "stream",
     "text": [
      "\n",
      "CSV 파일로부터 읽은 데이터: \n",
      "\n",
      "   number     name  age  salary\n",
      "0       0    Alice   25   50000\n",
      "1       1      Bob   30   60000\n",
      "2       2  Charlie   35   70000\n",
      "3       3    james   30  400000\n",
      "4       4    Alice   25   50000\n",
      "5       5      Bob   30   60000\n",
      "6       6  Charlie   35   70000\n",
      "7       7    james   30  400000\n"
     ]
    }
   ],
   "source": [
    "import pandas as pd\n",
    "\n",
    "csv_data = pd.read_csv('my_data.csv')\n",
    "print(\"\\nCSV 파일로부터 읽은 데이터: \\n\")\n",
    "print(csv_data)"
   ]
  },
  {
   "cell_type": "code",
   "execution_count": 11,
   "metadata": {},
   "outputs": [
    {
     "name": "stdout",
     "output_type": "stream",
     "text": [
      "      name  age  salary\n",
      "0    Alice   25   50000\n",
      "1      Bob   30   60000\n",
      "2  Charlie   35   70000\n",
      "3    james   30  400000\n",
      "4    Alice   25   50000\n",
      "5      Bob   30   60000\n",
      "6  Charlie   35   70000\n",
      "7    james   30  400000\n"
     ]
    }
   ],
   "source": [
    "data = pd.read_csv(\"my_data.csv\")\n",
    "data = data.drop(\"number\", axis=1)\n",
    "print(data)"
   ]
  },
  {
   "cell_type": "code",
   "execution_count": null,
   "metadata": {},
   "outputs": [],
   "source": []
  }
 ],
 "metadata": {
  "kernelspec": {
   "display_name": "Python 3",
   "language": "python",
   "name": "python3"
  },
  "language_info": {
   "codemirror_mode": {
    "name": "ipython",
    "version": 3
   },
   "file_extension": ".py",
   "mimetype": "text/x-python",
   "name": "python",
   "nbconvert_exporter": "python",
   "pygments_lexer": "ipython3",
   "version": "3.11.4"
  },
  "orig_nbformat": 4
 },
 "nbformat": 4,
 "nbformat_minor": 2
}
