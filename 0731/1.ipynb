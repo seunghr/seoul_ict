{
 "cells": [
  {
   "cell_type": "code",
   "execution_count": 2,
   "metadata": {},
   "outputs": [
    {
     "name": "stdout",
     "output_type": "stream",
     "text": [
      "num1이 num2보다 크다.\n"
     ]
    }
   ],
   "source": [
    "num1 = \"20\"\n",
    "num2 = \"10\"\n",
    "\n",
    "if num1 > num2:\n",
    "    print(\"num1이 num2보다 크다.\")\n",
    "elif num1 < num2:\n",
    "    print(\"num1은 num2보다 작다.\")\n",
    "else:\n",
    "    print(\"num1과 num2는 같다.\")"
   ]
  }
 ],
 "metadata": {
  "kernelspec": {
   "display_name": "Python 3",
   "language": "python",
   "name": "python3"
  },
  "language_info": {
   "codemirror_mode": {
    "name": "ipython",
    "version": 3
   },
   "file_extension": ".py",
   "mimetype": "text/x-python",
   "name": "python",
   "nbconvert_exporter": "python",
   "pygments_lexer": "ipython3",
   "version": "3.11.4"
  },
  "orig_nbformat": 4
 },
 "nbformat": 4,
 "nbformat_minor": 2
}
